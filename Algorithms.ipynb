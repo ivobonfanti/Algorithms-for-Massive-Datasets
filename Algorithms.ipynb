{
  "cells": [
    {
      "cell_type": "markdown",
      "metadata": {
        "id": "view-in-github",
        "colab_type": "text"
      },
      "source": [
        "<a href=\"https://colab.research.google.com/github/ivobonfanti/Algorithms-for-Massive-Datasets/blob/main/Algorithms.ipynb\" target=\"_parent\"><img src=\"https://colab.research.google.com/assets/colab-badge.svg\" alt=\"Open In Colab\"/></a>"
      ]
    },
    {
      "cell_type": "markdown",
      "metadata": {
        "id": "fO26iV5t5aYd"
      },
      "source": [
        "Download the MeDAL dataset from Kaggle and save it in Drive"
      ]
    },
    {
      "cell_type": "code",
      "execution_count": 1,
      "metadata": {
        "colab": {
          "base_uri": "https://localhost:8080/"
        },
        "id": "MX4tIx8y1m-Y",
        "outputId": "a897f499-4b47-4f58-842e-90f74daa5ffb"
      },
      "outputs": [
        {
          "output_type": "stream",
          "name": "stdout",
          "text": [
            "Downloading medal-emnlp.zip to /content\n",
            "100% 6.82G/6.82G [03:31<00:00, 35.4MB/s]\n",
            "100% 6.82G/6.82G [03:31<00:00, 34.6MB/s]\n"
          ]
        }
      ],
      "source": [
        "import os\n",
        "os.environ['KAGGLE_USERNAME'] = \"XXXXXXXX\"\n",
        "os.environ['KAGGLE_KEY'] = \"XXXXXXXX\"\n",
        "!kaggle datasets download -d xhlulu/medal-emnlp"
      ]
    },
    {
      "cell_type": "code",
      "execution_count": 2,
      "metadata": {
        "colab": {
          "base_uri": "https://localhost:8080/"
        },
        "id": "m117Onq8uNbf",
        "outputId": "97ed4aee-e0c4-4bbe-d459-a44e51073a2d"
      },
      "outputs": [
        {
          "output_type": "stream",
          "name": "stdout",
          "text": [
            "Archive:  medal-emnlp.zip\n",
            "  inflating: full_data.csv           \n",
            "  inflating: pretrain_subset/test.csv  \n",
            "  inflating: pretrain_subset/train.csv  \n",
            "  inflating: pretrain_subset/valid.csv  \n"
          ]
        }
      ],
      "source": [
        "!unzip medal-emnlp.zip #unzip dataset\n"
      ]
    },
    {
      "cell_type": "markdown",
      "metadata": {
        "id": "4xXd3aWFxF3T"
      },
      "source": [
        "Create a RDD from the MeDAL dataset"
      ]
    },
    {
      "cell_type": "code",
      "execution_count": 3,
      "metadata": {
        "id": "1gTG84wPxoaO"
      },
      "outputs": [],
      "source": [
        "import pandas as pd\n",
        "df=pd.read_csv('/content/full_data.csv', nrows=1000, usecols=[0,2]) #read only the first 1000 records and the first column"
      ]
    },
    {
      "cell_type": "code",
      "execution_count": 4,
      "metadata": {
        "colab": {
          "base_uri": "https://localhost:8080/",
          "height": 206
        },
        "id": "Oq12eaK-KVud",
        "outputId": "c4eebece-75a7-437a-831e-e1deee65be65"
      },
      "outputs": [
        {
          "output_type": "execute_result",
          "data": {
            "text/plain": [
              "   New_ID                                               TEXT  \\\n",
              "0       1  alphabisabolol has a primary antipeptic action...   \n",
              "1       2  a report is given on the recent discovery of o...   \n",
              "2       3  the virostatic compound nndiethyloxotetradecyl...   \n",
              "3       4  rmi rmi and rmi are newly synthetized nrdibenz...   \n",
              "4       5  a doubleblind study with intraindividual compa...   \n",
              "\n",
              "                                               LABEL  \n",
              "0                                          substrate  \n",
              "1  carcinosarcoma|recovery|reference|recovery|aft...  \n",
              "2                                          substrate  \n",
              "3  compounds|compounds|inhibitory|lethal doses|ca...  \n",
              "4  oxazepam|placebo|oral administration|pentagast...  "
            ],
            "text/html": [
              "\n",
              "  <div id=\"df-30716739-6c40-4bd5-a921-a9ac8042e35c\">\n",
              "    <div class=\"colab-df-container\">\n",
              "      <div>\n",
              "<style scoped>\n",
              "    .dataframe tbody tr th:only-of-type {\n",
              "        vertical-align: middle;\n",
              "    }\n",
              "\n",
              "    .dataframe tbody tr th {\n",
              "        vertical-align: top;\n",
              "    }\n",
              "\n",
              "    .dataframe thead th {\n",
              "        text-align: right;\n",
              "    }\n",
              "</style>\n",
              "<table border=\"1\" class=\"dataframe\">\n",
              "  <thead>\n",
              "    <tr style=\"text-align: right;\">\n",
              "      <th></th>\n",
              "      <th>New_ID</th>\n",
              "      <th>TEXT</th>\n",
              "      <th>LABEL</th>\n",
              "    </tr>\n",
              "  </thead>\n",
              "  <tbody>\n",
              "    <tr>\n",
              "      <th>0</th>\n",
              "      <td>1</td>\n",
              "      <td>alphabisabolol has a primary antipeptic action...</td>\n",
              "      <td>substrate</td>\n",
              "    </tr>\n",
              "    <tr>\n",
              "      <th>1</th>\n",
              "      <td>2</td>\n",
              "      <td>a report is given on the recent discovery of o...</td>\n",
              "      <td>carcinosarcoma|recovery|reference|recovery|aft...</td>\n",
              "    </tr>\n",
              "    <tr>\n",
              "      <th>2</th>\n",
              "      <td>3</td>\n",
              "      <td>the virostatic compound nndiethyloxotetradecyl...</td>\n",
              "      <td>substrate</td>\n",
              "    </tr>\n",
              "    <tr>\n",
              "      <th>3</th>\n",
              "      <td>4</td>\n",
              "      <td>rmi rmi and rmi are newly synthetized nrdibenz...</td>\n",
              "      <td>compounds|compounds|inhibitory|lethal doses|ca...</td>\n",
              "    </tr>\n",
              "    <tr>\n",
              "      <th>4</th>\n",
              "      <td>5</td>\n",
              "      <td>a doubleblind study with intraindividual compa...</td>\n",
              "      <td>oxazepam|placebo|oral administration|pentagast...</td>\n",
              "    </tr>\n",
              "  </tbody>\n",
              "</table>\n",
              "</div>\n",
              "      <button class=\"colab-df-convert\" onclick=\"convertToInteractive('df-30716739-6c40-4bd5-a921-a9ac8042e35c')\"\n",
              "              title=\"Convert this dataframe to an interactive table.\"\n",
              "              style=\"display:none;\">\n",
              "        \n",
              "  <svg xmlns=\"http://www.w3.org/2000/svg\" height=\"24px\"viewBox=\"0 0 24 24\"\n",
              "       width=\"24px\">\n",
              "    <path d=\"M0 0h24v24H0V0z\" fill=\"none\"/>\n",
              "    <path d=\"M18.56 5.44l.94 2.06.94-2.06 2.06-.94-2.06-.94-.94-2.06-.94 2.06-2.06.94zm-11 1L8.5 8.5l.94-2.06 2.06-.94-2.06-.94L8.5 2.5l-.94 2.06-2.06.94zm10 10l.94 2.06.94-2.06 2.06-.94-2.06-.94-.94-2.06-.94 2.06-2.06.94z\"/><path d=\"M17.41 7.96l-1.37-1.37c-.4-.4-.92-.59-1.43-.59-.52 0-1.04.2-1.43.59L10.3 9.45l-7.72 7.72c-.78.78-.78 2.05 0 2.83L4 21.41c.39.39.9.59 1.41.59.51 0 1.02-.2 1.41-.59l7.78-7.78 2.81-2.81c.8-.78.8-2.07 0-2.86zM5.41 20L4 18.59l7.72-7.72 1.47 1.35L5.41 20z\"/>\n",
              "  </svg>\n",
              "      </button>\n",
              "      \n",
              "  <style>\n",
              "    .colab-df-container {\n",
              "      display:flex;\n",
              "      flex-wrap:wrap;\n",
              "      gap: 12px;\n",
              "    }\n",
              "\n",
              "    .colab-df-convert {\n",
              "      background-color: #E8F0FE;\n",
              "      border: none;\n",
              "      border-radius: 50%;\n",
              "      cursor: pointer;\n",
              "      display: none;\n",
              "      fill: #1967D2;\n",
              "      height: 32px;\n",
              "      padding: 0 0 0 0;\n",
              "      width: 32px;\n",
              "    }\n",
              "\n",
              "    .colab-df-convert:hover {\n",
              "      background-color: #E2EBFA;\n",
              "      box-shadow: 0px 1px 2px rgba(60, 64, 67, 0.3), 0px 1px 3px 1px rgba(60, 64, 67, 0.15);\n",
              "      fill: #174EA6;\n",
              "    }\n",
              "\n",
              "    [theme=dark] .colab-df-convert {\n",
              "      background-color: #3B4455;\n",
              "      fill: #D2E3FC;\n",
              "    }\n",
              "\n",
              "    [theme=dark] .colab-df-convert:hover {\n",
              "      background-color: #434B5C;\n",
              "      box-shadow: 0px 1px 3px 1px rgba(0, 0, 0, 0.15);\n",
              "      filter: drop-shadow(0px 1px 2px rgba(0, 0, 0, 0.3));\n",
              "      fill: #FFFFFF;\n",
              "    }\n",
              "  </style>\n",
              "\n",
              "      <script>\n",
              "        const buttonEl =\n",
              "          document.querySelector('#df-30716739-6c40-4bd5-a921-a9ac8042e35c button.colab-df-convert');\n",
              "        buttonEl.style.display =\n",
              "          google.colab.kernel.accessAllowed ? 'block' : 'none';\n",
              "\n",
              "        async function convertToInteractive(key) {\n",
              "          const element = document.querySelector('#df-30716739-6c40-4bd5-a921-a9ac8042e35c');\n",
              "          const dataTable =\n",
              "            await google.colab.kernel.invokeFunction('convertToInteractive',\n",
              "                                                     [key], {});\n",
              "          if (!dataTable) return;\n",
              "\n",
              "          const docLinkHtml = 'Like what you see? Visit the ' +\n",
              "            '<a target=\"_blank\" href=https://colab.research.google.com/notebooks/data_table.ipynb>data table notebook</a>'\n",
              "            + ' to learn more about interactive tables.';\n",
              "          element.innerHTML = '';\n",
              "          dataTable['output_type'] = 'display_data';\n",
              "          await google.colab.output.renderOutput(dataTable, element);\n",
              "          const docLink = document.createElement('div');\n",
              "          docLink.innerHTML = docLinkHtml;\n",
              "          element.appendChild(docLink);\n",
              "        }\n",
              "      </script>\n",
              "    </div>\n",
              "  </div>\n",
              "  "
            ]
          },
          "metadata": {},
          "execution_count": 4
        }
      ],
      "source": [
        "df.insert(0, 'New_ID', range(1, 1 + len(df))) #add a column for indexing\n",
        "articles=df.values.tolist() #make the columns as collections\n",
        "df.head() #check"
      ]
    },
    {
      "cell_type": "markdown",
      "metadata": {
        "id": "wyeGjhT0KYF0"
      },
      "source": [
        "Set Up Spark in Colab"
      ]
    },
    {
      "cell_type": "code",
      "execution_count": 5,
      "metadata": {
        "id": "ImlVv1FHJoU9"
      },
      "outputs": [],
      "source": [
        "!apt-get install openjdk-8-jdk-headless -qq > /dev/null #install java as VM\n",
        "!wget -q https://dlcdn.apache.org/spark/spark-3.4.0/spark-3.4.0-bin-hadoop3.tgz #download Spark\n",
        "!tar xf spark-3.4.0-bin-hadoop3.tgz #unzip the file\n",
        "!pip install -q findspark"
      ]
    },
    {
      "cell_type": "code",
      "execution_count": 6,
      "metadata": {
        "id": "K1NPPBhEJsVu"
      },
      "outputs": [],
      "source": [
        "import os\n",
        "os.environ[\"JAVA_HOME\"] = \"/usr/lib/jvm/java-8-openjdk-amd64\"\n",
        "os.environ[\"SPARK_HOME\"] = \"/content/spark-3.4.0-bin-hadoop3\""
      ]
    },
    {
      "cell_type": "code",
      "execution_count": 7,
      "metadata": {
        "id": "nRwfSiq8JyYQ"
      },
      "outputs": [],
      "source": [
        "import findspark\n",
        "findspark.init(\"spark-3.4.0-bin-hadoop3\")# SPARK_HOME\n",
        "from pyspark.sql import SparkSession\n",
        "spark = SparkSession.builder.master(\"local[*]\").getOrCreate()"
      ]
    },
    {
      "cell_type": "code",
      "execution_count": 8,
      "metadata": {
        "colab": {
          "base_uri": "https://localhost:8080/"
        },
        "id": "eMuHZycFIiVd",
        "outputId": "12604dd9-596e-40c0-d418-735229f4b386"
      },
      "outputs": [
        {
          "output_type": "execute_result",
          "data": {
            "text/plain": [
              "pyspark.sql.session.SparkSession"
            ]
          },
          "metadata": {},
          "execution_count": 8
        }
      ],
      "source": [
        "import pyspark\n",
        "type(spark)"
      ]
    },
    {
      "cell_type": "markdown",
      "metadata": {
        "id": "zg0o4pB8AIJt"
      },
      "source": [
        "Convert the dataset to a PySpark RDD"
      ]
    },
    {
      "cell_type": "code",
      "execution_count": 9,
      "metadata": {
        "colab": {
          "base_uri": "https://localhost:8080/"
        },
        "id": "rQIHjgokIsiT",
        "outputId": "1c4ce84f-d58a-4c3f-c933-f4fbcc72e2dc"
      },
      "outputs": [
        {
          "output_type": "execute_result",
          "data": {
            "text/plain": [
              "[[1,\n",
              "  'alphabisabolol has a primary antipeptic action depending on dosage which is not caused by an alteration of the phvalue the proteolytic activity of pepsin is reduced by percent through addition of bisabolol in the ratio of the antipeptic action of bisabolol only occurs in case of direct contact in case of a previous contact with the ATP the inhibiting effect is lost',\n",
              "  'substrate'],\n",
              " [2,\n",
              "  'a report is given on the recent discovery of outstanding immunological properties in ba ncyanoethyleneurea having a low molecular mass m experiments in ds CS bearing wistar rats have shown that ba at a dosage of only about percent ld mg kg and negligible lethality percent results in a REC rate of percent without hyperglycemia and in one test of percent with hyperglycemia under otherwise unchanged conditions the REF substance ifosfamide if a further development of cyclophosphamide applied without hyperglycemia in its most efficient dosage of percent ld mg kg brought about a recovery rate of percent at a lethality of percent contrary to ba min hyperglycemia caused no further improvement of the REC rate however this comparison is characterized by the fact that both substances exhibit two quite different complementary mechanisms of action leucocyte counts made T3 application of the said cancerostatics and dosages have shown a pronounced stimulation with ba and with ifosfamide the known suppression in the posttherapeutic interval usually found with standard cancerostatics in combination with the cited PI test for ba blood pictures then allow conclusions on the immunity status since if can be taken as one of the most efficient cancerostaticsthere is no other chemotherapeutic known up to now that has a more significant effect on the ds carcinosarcoma in rats these findings are of special importance finally the total amount of leucocytes and lymphocytes as well as their time behaviour was determined from the blood picture of tumourfree rats after iv application of ba the thus obtained numerical values clearly show that further research work on the prophylactic use of this substance seems to be necessary and very promising',\n",
              "  'carcinosarcoma|recovery|reference|recovery|after|plaque']]"
            ]
          },
          "metadata": {},
          "execution_count": 9
        }
      ],
      "source": [
        "sc = spark.sparkContext\n",
        "simple_rdd = sc.parallelize(articles) #create an RDD\n",
        "simple_rdd.take(2) #check "
      ]
    },
    {
      "cell_type": "markdown",
      "metadata": {
        "id": "GNbZlXd8eSZH"
      },
      "source": [
        "Define a function for tokenizing, lemmatizing, lowercasing and removing stop words. Documents are transformed in sets of unigram shingles.\n",
        "\n"
      ]
    },
    {
      "cell_type": "code",
      "execution_count": 10,
      "metadata": {
        "colab": {
          "base_uri": "https://localhost:8080/"
        },
        "id": "4UziFfeY8nOM",
        "outputId": "658fb4f2-6aeb-4547-f41e-8600d3140896"
      },
      "outputs": [
        {
          "output_type": "stream",
          "name": "stdout",
          "text": [
            "Looking in indexes: https://pypi.org/simple, https://us-python.pkg.dev/colab-wheels/public/simple/\n",
            "Requirement already satisfied: nltk in /usr/local/lib/python3.10/dist-packages (3.8.1)\n",
            "Requirement already satisfied: click in /usr/local/lib/python3.10/dist-packages (from nltk) (8.1.3)\n",
            "Requirement already satisfied: joblib in /usr/local/lib/python3.10/dist-packages (from nltk) (1.2.0)\n",
            "Requirement already satisfied: regex>=2021.8.3 in /usr/local/lib/python3.10/dist-packages (from nltk) (2022.10.31)\n",
            "Requirement already satisfied: tqdm in /usr/local/lib/python3.10/dist-packages (from nltk) (4.65.0)\n"
          ]
        },
        {
          "output_type": "stream",
          "name": "stderr",
          "text": [
            "[nltk_data] Downloading package wordnet to /root/nltk_data...\n",
            "[nltk_data] Downloading package averaged_perceptron_tagger to\n",
            "[nltk_data]     /root/nltk_data...\n",
            "[nltk_data]   Unzipping taggers/averaged_perceptron_tagger.zip.\n",
            "[nltk_data] Downloading package punkt to /root/nltk_data...\n",
            "[nltk_data]   Unzipping tokenizers/punkt.zip.\n"
          ]
        },
        {
          "output_type": "execute_result",
          "data": {
            "text/plain": [
              "[(1,\n",
              "  ['alphabisabolol',\n",
              "   'primary',\n",
              "   'antipeptic',\n",
              "   'action',\n",
              "   'depend',\n",
              "   'dosage',\n",
              "   'cause',\n",
              "   'alteration',\n",
              "   'phvalue',\n",
              "   'proteolytic',\n",
              "   'activity',\n",
              "   'pepsin',\n",
              "   'reduce',\n",
              "   'percent',\n",
              "   'addition',\n",
              "   'bisabolol',\n",
              "   'ratio',\n",
              "   'antipeptic',\n",
              "   'action',\n",
              "   'bisabolol',\n",
              "   'occurs',\n",
              "   'case',\n",
              "   'direct',\n",
              "   'contact',\n",
              "   'case',\n",
              "   'previous',\n",
              "   'contact',\n",
              "   'atp',\n",
              "   'inhibit',\n",
              "   'effect',\n",
              "   'lose'])]"
            ]
          },
          "metadata": {},
          "execution_count": 10
        }
      ],
      "source": [
        "!pip install -U nltk\n",
        "import nltk\n",
        "import requests\n",
        "nltk.download('wordnet')\n",
        "nltk.download('averaged_perceptron_tagger')\n",
        "nltk.download('punkt')\n",
        "from nltk.stem import WordNetLemmatizer \n",
        "\n",
        "def get_wordnet_pos(word): #this function maps the pos tags to the format that lemmatizer accepts \n",
        "    from nltk.corpus import wordnet\n",
        "    tag = nltk.pos_tag([word])[0][1][0].upper()\n",
        "    tag_dict = {\"J\": wordnet.ADJ,\n",
        "                \"N\": wordnet.NOUN,\n",
        "                \"V\": wordnet.VERB,\n",
        "                \"R\": wordnet.ADV}\n",
        "\n",
        "    return tag_dict.get(tag, wordnet.NOUN)\n",
        "\n",
        "\n",
        "lemmatizer = WordNetLemmatizer()\n",
        "\n",
        "url = \"https://raw.githubusercontent.com/ivobonfanti/Algorithms-for-Massive-Datasets/main/stopwords.txt\"\n",
        "response = requests.get(url)\n",
        "content = response.text\n",
        "stopwords = set(spark.sparkContext.parallelize(content.splitlines()).collect())\n",
        "import re\n",
        "split_regex = r'\\W+'\n",
        "\n",
        "def tokenize(string): #function to tokenize, filter for stopwords and lemmatize\n",
        "  return [lemmatizer.lemmatize(s, get_wordnet_pos(s)) for s in re.split(split_regex, string.lower())\n",
        "  if s != '' and not s in stopwords]\n",
        "\n",
        "preprocessed_rdd= simple_rdd.map(lambda s: (s[0], tokenize(s[1])))\n",
        "preprocessed_rdd.take(1) #check"
      ]
    },
    {
      "cell_type": "markdown",
      "source": [
        "**BRUTE-FORCE APPROACH**"
      ],
      "metadata": {
        "id": "aDzGj2qkU1BW"
      }
    },
    {
      "cell_type": "markdown",
      "source": [
        "Define a function to compute the Jaccard similarity"
      ],
      "metadata": {
        "id": "wrcRfm4lT_Bz"
      }
    },
    {
      "cell_type": "code",
      "source": [
        "def jaccard_similarity(set1, set2):\n",
        "    intersection = len(set(set1).intersection(set(set2)))\n",
        "    union = len(set(set1).union(set(set2)))\n",
        "    return intersection / float(union)"
      ],
      "metadata": {
        "id": "NKBZeu6eT-V2"
      },
      "execution_count": null,
      "outputs": []
    },
    {
      "cell_type": "markdown",
      "source": [
        "Create a new RDD with pairwise articles for comparison"
      ],
      "metadata": {
        "id": "WPOdOnN_UEji"
      }
    },
    {
      "cell_type": "code",
      "source": [
        "cartesian_rdd= preprocessed_rdd.cartesian(preprocessed_rdd)\n",
        "filtered_cartesian_rdd = cartesian_rdd.filter(lambda x: x[0][0] < x[1][0]) #to avoid to obtain symmetric results\n",
        "#filtered_cartesian_rdd.take(1) #check\n",
        "filtered_cartesian_rdd.count() #check if it contains 499500 records"
      ],
      "metadata": {
        "id": "ODDSjHv5UG_P",
        "colab": {
          "base_uri": "https://localhost:8080/"
        },
        "outputId": "a60f8f38-f2b9-4da1-8cfc-eb42c0793ac3"
      },
      "execution_count": null,
      "outputs": [
        {
          "output_type": "execute_result",
          "data": {
            "text/plain": [
              "499500"
            ]
          },
          "metadata": {},
          "execution_count": 13
        }
      ]
    },
    {
      "cell_type": "markdown",
      "source": [
        "Compute the similarity for each pair"
      ],
      "metadata": {
        "id": "WvNMXdZ4UJtV"
      }
    },
    {
      "cell_type": "code",
      "source": [
        "jaccard_scores = filtered_cartesian_rdd.map(lambda x: (x[0][0],x[1][0], jaccard_similarity(x[0][1], x[1][1]))) #score for each couple of articles\n",
        "jaccard_scores.take(2) #check"
      ],
      "metadata": {
        "id": "PgHjHwGoUN-n",
        "colab": {
          "base_uri": "https://localhost:8080/"
        },
        "outputId": "f2d16fa6-f051-40c6-f98a-5c97c5a80a5e"
      },
      "execution_count": null,
      "outputs": [
        {
          "output_type": "execute_result",
          "data": {
            "text/plain": [
              "[(1, 2, 0.03597122302158273), (1, 3, 0.07272727272727272)]"
            ]
          },
          "metadata": {},
          "execution_count": 14
        }
      ]
    },
    {
      "cell_type": "markdown",
      "source": [
        "Plot the number of similar pairs which score greater than a given threshold"
      ],
      "metadata": {
        "id": "-LHvbjCFUP97"
      }
    },
    {
      "cell_type": "code",
      "source": [
        "import numpy as np #takes quite long, the .count() operation is very slow. \n",
        "import matplotlib.pyplot as plt\n",
        "thresholds=np.arange(0.2, 1.1, 0.1) #to speed up computation increase the step paramaeter\n",
        "counts=[] \n",
        "\n",
        "for i in thresholds:\n",
        "  similar_pairs = jaccard_scores.filter(lambda x: x[2] >= i)\n",
        "  counts.append(similar_pairs.count())\n",
        "\n",
        "plt.xlabel('threshold', fontsize=10)\n",
        "plt.ylabel('number of similar pairs', fontsize=10)\n",
        "plt.plot(thresholds, counts, linestyle=\"-\", marker=\"o\", label=\"number of similar articles\")\n",
        "plt.legend()\n",
        "plt.show()"
      ],
      "metadata": {
        "id": "fMqx7C1PUg2-",
        "colab": {
          "base_uri": "https://localhost:8080/",
          "height": 449
        },
        "outputId": "b516476d-3122-4788-b27b-e95c71be62eb"
      },
      "execution_count": null,
      "outputs": [
        {
          "output_type": "display_data",
          "data": {
            "text/plain": [
              "<Figure size 640x480 with 1 Axes>"
            ],
            "image/png": "[encoded data removed]"
          },
          "metadata": {}
        }
      ]
    },
    {
      "cell_type": "markdown",
      "source": [
        "Extract the IDs of the most similar articles at the picked thresholds"
      ],
      "metadata": {
        "id": "NgUqKBljUjgj"
      }
    },
    {
      "cell_type": "code",
      "source": [
        "similar_pairs = jaccard_scores.filter(lambda x: x[2] >= 0.4) #174-176/409-411\n",
        "similar_pairs.collect()"
      ],
      "metadata": {
        "id": "64Yp3ELuUl-s",
        "colab": {
          "base_uri": "https://localhost:8080/"
        },
        "outputId": "ec707ebd-0364-4051-c61b-278d793b556e"
      },
      "execution_count": null,
      "outputs": [
        {
          "output_type": "execute_result",
          "data": {
            "text/plain": [
              "[(174, 176, 0.5050505050505051), (409, 411, 0.4166666666666667)]"
            ]
          },
          "metadata": {},
          "execution_count": 16
        }
      ]
    },
    {
      "cell_type": "markdown",
      "source": [
        "**LSH APPROACH**"
      ],
      "metadata": {
        "id": "m-zrFU_7VDvf"
      }
    },
    {
      "cell_type": "markdown",
      "metadata": {
        "id": "e76owDGDFBqd"
      },
      "source": [
        "Transform the RDD into a distributed dataframe since the MLlib required functions take DF as argument. "
      ]
    },
    {
      "cell_type": "code",
      "execution_count": null,
      "metadata": {
        "id": "jrB3EncxFE0q"
      },
      "outputs": [],
      "source": [
        "document_df = preprocessed_rdd.toDF([\"doc_id\", \"tokens\"]) #convert to a dataframe"
      ]
    },
    {
      "cell_type": "markdown",
      "metadata": {
        "id": "l0rf3gWQKlje"
      },
      "source": [
        "Build the characteristic matrix from the tokenized docs."
      ]
    },
    {
      "cell_type": "code",
      "execution_count": null,
      "metadata": {
        "id": "WPCmETTgJMnC",
        "colab": {
          "base_uri": "https://localhost:8080/"
        },
        "outputId": "e82cfb89-0779-4053-d129-b4ff35f43459"
      },
      "outputs": [
        {
          "output_type": "execute_result",
          "data": {
            "text/plain": [
              "[Row(doc_id=1, tokens=['alphabisabolol', 'primary', 'antipeptic', 'action', 'depend', 'dosage', 'cause', 'alteration', 'phvalue', 'proteolytic', 'activity', 'pepsin', 'reduce', 'percent', 'addition', 'bisabolol', 'ratio', 'antipeptic', 'action', 'bisabolol', 'occurs', 'case', 'direct', 'contact', 'case', 'previous', 'contact', 'atp', 'inhibit', 'effect', 'lose'], features=SparseVector(12121, {1: 1.0, 5: 1.0, 29: 1.0, 50: 1.0, 59: 1.0, 60: 1.0, 80: 2.0, 95: 1.0, 119: 2.0, 158: 1.0, 395: 1.0, 444: 1.0, 495: 1.0, 529: 1.0, 532: 1.0, 709: 1.0, 1045: 1.0, 1057: 1.0, 1316: 1.0, 1340: 1.0, 1496: 1.0, 1694: 2.0, 5234: 2.0, 5358: 2.0, 5858: 1.0, 8088: 1.0})),\n",
              " Row(doc_id=2, tokens=['report', 'give', 'recent', 'discovery', 'outstanding', 'immunological', 'property', 'ba', 'ncyanoethyleneurea', 'low', 'molecular', 'mass', 'm', 'experiment', 'd', 'c', 'bearing', 'wistar', 'rat', 'show', 'ba', 'dosage', 'percent', 'ld', 'mg', 'kg', 'negligible', 'lethality', 'percent', 'result', 'rec', 'rate', 'percent', 'without', 'hyperglycemia', 'one', 'test', 'percent', 'hyperglycemia', 'otherwise', 'unchanged', 'condition', 'ref', 'substance', 'ifosfamide', 'development', 'cyclophosphamide', 'apply', 'without', 'hyperglycemia', 'efficient', 'dosage', 'percent', 'ld', 'mg', 'kg', 'brought', 'recovery', 'rate', 'percent', 'lethality', 'percent', 'contrary', 'ba', 'min', 'hyperglycemia', 'cause', 'improvement', 'rec', 'rate', 'however', 'comparison', 'characterize', 'fact', 'substance', 'exhibit', 'two', 'quite', 'different', 'complementary', 'mechanism', 'action', 'leucocyte', 'count', 'make', 't3', 'application', 'say', 'cancerostatics', 'dosage', 'show', 'pronounce', 'stimulation', 'ba', 'ifosfamide', 'know', 'suppression', 'posttherapeutic', 'interval', 'usually', 'found', 'standard', 'cancerostatics', 'combination', 'cite', 'pi', 'test', 'ba', 'blood', 'picture', 'allow', 'conclusion', 'immunity', 'status', 'since', 'take', 'one', 'efficient', 'cancerostaticsthere', 'chemotherapeutic', 'know', 'significant', 'effect', 'd', 'carcinosarcoma', 'rat', 'finding', 'special', 'importance', 'finally', 'total', 'amount', 'leucocyte', 'lymphocyte', 'well', 'time', 'behaviour', 'determine', 'blood', 'picture', 'tumourfree', 'rat', 'iv', 'application', 'ba', 'thus', 'obtain', 'numerical', 'value', 'clearly', 'show', 'research', 'work', 'prophylactic', 'use', 'substance', 'seem', 'necessary', 'promising'], features=SparseVector(12121, {5: 1.0, 7: 1.0, 9: 3.0, 11: 1.0, 13: 1.0, 17: 3.0, 18: 1.0, 20: 1.0, 21: 1.0, 23: 2.0, 25: 3.0, 30: 1.0, 34: 1.0, 35: 2.0, 38: 1.0, 39: 1.0, 44: 1.0, 45: 1.0, 49: 1.0, 53: 2.0, 59: 1.0, 63: 1.0, 100: 1.0, 101: 1.0, 103: 1.0, 107: 1.0, 110: 1.0, 111: 1.0, 113: 1.0, 119: 1.0, 122: 2.0, 124: 1.0, 125: 1.0, 129: 1.0, 132: 1.0, 183: 2.0, 195: 1.0, 212: 1.0, 213: 1.0, 234: 1.0, 241: 1.0, 268: 1.0, 273: 1.0, 306: 1.0, 309: 1.0, 333: 2.0, 371: 1.0, 455: 1.0, 480: 2.0, 500: 1.0, 510: 1.0, 542: 1.0, 562: 1.0, 568: 1.0, 577: 1.0, 614: 1.0, 619: 3.0, 694: 1.0, 706: 1.0, 708: 1.0, 769: 1.0, 795: 1.0, 807: 1.0, 825: 1.0, 860: 1.0, 876: 1.0, 907: 1.0, 956: 1.0, 987: 1.0, 990: 2.0, 1191: 6.0, 1283: 1.0, 1297: 2.0, 1316: 7.0, 1324: 1.0, 1340: 3.0, 1406: 1.0, 1565: 1.0, 1616: 2.0, 1626: 2.0, 1698: 1.0, 1714: 1.0, 1797: 1.0, 1833: 2.0, 1834: 1.0, 1901: 2.0, 1989: 1.0, 1997: 1.0, 2043: 1.0, 2092: 1.0, 2107: 4.0, 2231: 1.0, 2251: 1.0, 2270: 1.0, 2392: 1.0, 2509: 1.0, 2582: 2.0, 2851: 1.0, 2884: 2.0, 3099: 1.0, 3157: 1.0, 3164: 1.0, 3184: 1.0, 4129: 1.0, 4267: 1.0, 4639: 1.0, 4919: 2.0, 6512: 2.0, 7751: 1.0, 7758: 1.0, 8271: 1.0, 8483: 1.0, 8525: 1.0, 9956: 1.0, 10094: 1.0, 11035: 1.0, 11161: 1.0, 11627: 1.0}))]"
            ]
          },
          "metadata": {},
          "execution_count": 18
        }
      ],
      "source": [
        "from pyspark.ml.feature import CountVectorizer\n",
        "cv = CountVectorizer(inputCol=\"tokens\", outputCol=\"features\") #define the function countvectorizer\n",
        "cv_model = cv.fit(document_df) #creates a dictionary of tokens mapping them to their position in the output matrix\n",
        "vectorized_df = cv_model.transform(document_df) #obtain a new df reporting the vectorized sets ok tokens  (vocaboulary. size, {tokenindex:count})\n",
        "vectorized_df.take(2) #check"
      ]
    },
    {
      "cell_type": "markdown",
      "metadata": {
        "id": "ziCQ0vufKdjs"
      },
      "source": [
        "Simulate the signature matrix and apply LSH"
      ]
    },
    {
      "cell_type": "code",
      "execution_count": null,
      "metadata": {
        "id": "BhWUUiKjKM3l",
        "colab": {
          "base_uri": "https://localhost:8080/"
        },
        "outputId": "125c84c8-382a-4469-d226-3cad3151e1b2"
      },
      "outputs": [
        {
          "output_type": "execute_result",
          "data": {
            "text/plain": [
              "[Row(doc_id=1, tokens=['alphabisabolol', 'primary', 'antipeptic', 'action', 'depend', 'dosage', 'cause', 'alteration', 'phvalue', 'proteolytic', 'activity', 'pepsin', 'reduce', 'percent', 'addition', 'bisabolol', 'ratio', 'antipeptic', 'action', 'bisabolol', 'occurs', 'case', 'direct', 'contact', 'case', 'previous', 'contact', 'atp', 'inhibit', 'effect', 'lose'], features=SparseVector(12121, {1: 1.0, 5: 1.0, 29: 1.0, 50: 1.0, 59: 1.0, 60: 1.0, 80: 2.0, 95: 1.0, 119: 2.0, 158: 1.0, 395: 1.0, 444: 1.0, 495: 1.0, 529: 1.0, 532: 1.0, 709: 1.0, 1045: 1.0, 1057: 1.0, 1316: 1.0, 1340: 1.0, 1496: 1.0, 1694: 2.0, 5234: 2.0, 5358: 2.0, 5858: 1.0, 8088: 1.0}), hashes=[DenseVector([226995575.0]), DenseVector([12356412.0]), DenseVector([76145676.0]), DenseVector([18719422.0]), DenseVector([85738138.0])]),\n",
              " Row(doc_id=2, tokens=['report', 'give', 'recent', 'discovery', 'outstanding', 'immunological', 'property', 'ba', 'ncyanoethyleneurea', 'low', 'molecular', 'mass', 'm', 'experiment', 'd', 'c', 'bearing', 'wistar', 'rat', 'show', 'ba', 'dosage', 'percent', 'ld', 'mg', 'kg', 'negligible', 'lethality', 'percent', 'result', 'rec', 'rate', 'percent', 'without', 'hyperglycemia', 'one', 'test', 'percent', 'hyperglycemia', 'otherwise', 'unchanged', 'condition', 'ref', 'substance', 'ifosfamide', 'development', 'cyclophosphamide', 'apply', 'without', 'hyperglycemia', 'efficient', 'dosage', 'percent', 'ld', 'mg', 'kg', 'brought', 'recovery', 'rate', 'percent', 'lethality', 'percent', 'contrary', 'ba', 'min', 'hyperglycemia', 'cause', 'improvement', 'rec', 'rate', 'however', 'comparison', 'characterize', 'fact', 'substance', 'exhibit', 'two', 'quite', 'different', 'complementary', 'mechanism', 'action', 'leucocyte', 'count', 'make', 't3', 'application', 'say', 'cancerostatics', 'dosage', 'show', 'pronounce', 'stimulation', 'ba', 'ifosfamide', 'know', 'suppression', 'posttherapeutic', 'interval', 'usually', 'found', 'standard', 'cancerostatics', 'combination', 'cite', 'pi', 'test', 'ba', 'blood', 'picture', 'allow', 'conclusion', 'immunity', 'status', 'since', 'take', 'one', 'efficient', 'cancerostaticsthere', 'chemotherapeutic', 'know', 'significant', 'effect', 'd', 'carcinosarcoma', 'rat', 'finding', 'special', 'importance', 'finally', 'total', 'amount', 'leucocyte', 'lymphocyte', 'well', 'time', 'behaviour', 'determine', 'blood', 'picture', 'tumourfree', 'rat', 'iv', 'application', 'ba', 'thus', 'obtain', 'numerical', 'value', 'clearly', 'show', 'research', 'work', 'prophylactic', 'use', 'substance', 'seem', 'necessary', 'promising'], features=SparseVector(12121, {5: 1.0, 7: 1.0, 9: 3.0, 11: 1.0, 13: 1.0, 17: 3.0, 18: 1.0, 20: 1.0, 21: 1.0, 23: 2.0, 25: 3.0, 30: 1.0, 34: 1.0, 35: 2.0, 38: 1.0, 39: 1.0, 44: 1.0, 45: 1.0, 49: 1.0, 53: 2.0, 59: 1.0, 63: 1.0, 100: 1.0, 101: 1.0, 103: 1.0, 107: 1.0, 110: 1.0, 111: 1.0, 113: 1.0, 119: 1.0, 122: 2.0, 124: 1.0, 125: 1.0, 129: 1.0, 132: 1.0, 183: 2.0, 195: 1.0, 212: 1.0, 213: 1.0, 234: 1.0, 241: 1.0, 268: 1.0, 273: 1.0, 306: 1.0, 309: 1.0, 333: 2.0, 371: 1.0, 455: 1.0, 480: 2.0, 500: 1.0, 510: 1.0, 542: 1.0, 562: 1.0, 568: 1.0, 577: 1.0, 614: 1.0, 619: 3.0, 694: 1.0, 706: 1.0, 708: 1.0, 769: 1.0, 795: 1.0, 807: 1.0, 825: 1.0, 860: 1.0, 876: 1.0, 907: 1.0, 956: 1.0, 987: 1.0, 990: 2.0, 1191: 6.0, 1283: 1.0, 1297: 2.0, 1316: 7.0, 1324: 1.0, 1340: 3.0, 1406: 1.0, 1565: 1.0, 1616: 2.0, 1626: 2.0, 1698: 1.0, 1714: 1.0, 1797: 1.0, 1833: 2.0, 1834: 1.0, 1901: 2.0, 1989: 1.0, 1997: 1.0, 2043: 1.0, 2092: 1.0, 2107: 4.0, 2231: 1.0, 2251: 1.0, 2270: 1.0, 2392: 1.0, 2509: 1.0, 2582: 2.0, 2851: 1.0, 2884: 2.0, 3099: 1.0, 3157: 1.0, 3164: 1.0, 3184: 1.0, 4129: 1.0, 4267: 1.0, 4639: 1.0, 4919: 2.0, 6512: 2.0, 7751: 1.0, 7758: 1.0, 8271: 1.0, 8483: 1.0, 8525: 1.0, 9956: 1.0, 10094: 1.0, 11035: 1.0, 11161: 1.0, 11627: 1.0}), hashes=[DenseVector([65969467.0]), DenseVector([7378424.0]), DenseVector([19064055.0]), DenseVector([74266023.0]), DenseVector([16177406.0])])]"
            ]
          },
          "metadata": {},
          "execution_count": 19
        }
      ],
      "source": [
        "numHashTables = 5\n",
        "from pyspark.ml.feature import MinHashLSH\n",
        "minHashLSH = MinHashLSH(inputCol=\"features\", outputCol=\"hashes\", numHashTables=numHashTables) #define MinHashLSH function\n",
        "lsh_model = minHashLSH.fit(vectorized_df) \n",
        "result_df = lsh_model.transform(vectorized_df)\n",
        "result_df.take(2)"
      ]
    },
    {
      "cell_type": "code",
      "execution_count": null,
      "metadata": {
        "id": "7wmhvhu5Fyu_"
      },
      "outputs": [],
      "source": [
        "threshold = 0.5  \n",
        "similar_documents = lsh_model.approxSimilarityJoin(result_df, result_df, threshold).filter(\"distCol != 0.0\")"
      ]
    },
    {
      "cell_type": "markdown",
      "metadata": {
        "id": "1zIuW9X9OSaP"
      },
      "source": [
        "Show the most similar articles"
      ]
    },
    {
      "cell_type": "code",
      "execution_count": null,
      "metadata": {
        "colab": {
          "base_uri": "https://localhost:8080/"
        },
        "id": "5eeu8MxHOeB7",
        "outputId": "e4137366-9c20-4161-a358-14b6218d0d97"
      },
      "outputs": [
        {
          "output_type": "stream",
          "name": "stdout",
          "text": [
            "+--------------------+--------------------+------------------+\n",
            "|            datasetA|            datasetB|           distCol|\n",
            "+--------------------+--------------------+------------------+\n",
            "|{176, [nadhcoenzy...|{174, [reduce, co...|0.4949494949494949|\n",
            "|{174, [reduce, co...|{176, [nadhcoenzy...|0.4949494949494949|\n",
            "+--------------------+--------------------+------------------+\n",
            "\n"
          ]
        }
      ],
      "source": [
        "similar_documents.show() #less than a minute instead of 6 with the previouse approach. Same results obtained."
      ]
    },
    {
      "cell_type": "markdown",
      "metadata": {
        "id": "7mmoP2drO7Vo"
      },
      "source": [
        "Once having retrieved the IDs, retrieve the articles, togethere with their labels from the original dataframe"
      ]
    },
    {
      "cell_type": "code",
      "execution_count": null,
      "metadata": {
        "colab": {
          "base_uri": "https://localhost:8080/",
          "height": 350
        },
        "id": "xT08gZTUPSS9",
        "outputId": "fd76177b-edf7-4555-9679-85e4068cc46a"
      },
      "outputs": [
        {
          "output_type": "execute_result",
          "data": {
            "text/plain": [
              "     New_ID  \\\n",
              "173     174   \n",
              "\n",
              "                                                                                                                                                                                                                                                                                                                                                                                                                                                                                                                                                                                                                                                                                                                                                                                                                                                                                                                                                                                                                                                                                                                                                                                                                                                                                                                                                                                                                             TEXT  \\\n",
              "173  reduced coenzyme qcytochrome c reductase from bovine heart mitochondria complex iii was incorporated into phospholipid LDV by the cholate dialysis procedure soybean phospholipids or mixtures of purified phosphatidylcholine phosphatidylethanolamine and cardiolipin could be used oxidation of reduced coenzyme q by the reconstituted vesicles with cytochrome c as oxidant showed the following energycoupling phenomena protons were translocated outward with a coupling ratio he of measurements with mitochondria under similar conditions showed an he ratio of proton translocation was not seen in the presence of uncoupling agents and was in addition to the net acidification of the medium from the overall oxidation reaction potassium ions were taken up by the reconstituted vesicles in the presence of valinomycin in a reaction coupled to electron transfer the coupling ratio for k uptake ke was in the vesicles and approximately in mitochondria the rate of oxidation of reduced coenzyme q by the reconstituted LDV was stimulated up to fold by uncouplers or by valinomycin plus nigericin and k ions addition of valinomycin CT in a k medium caused a transient stimulation of electron transfer the results indicate that SE coupling can be observed with isolated reduced coenzyme qcytochrome c reductase if the enzyme complex is properly incorporated into a phospholipid vesicle   \n",
              "\n",
              "                              LABEL  \n",
              "173  vesicles|vesicles|alone|energy  "
            ],
            "text/html": [
              "\n",
              "  <div id=\"df-b2c50818-d0e2-406c-95f7-487b7a9d373a\">\n",
              "    <div class=\"colab-df-container\">\n",
              "      <div>\n",
              "<style scoped>\n",
              "    .dataframe tbody tr th:only-of-type {\n",
              "        vertical-align: middle;\n",
              "    }\n",
              "\n",
              "    .dataframe tbody tr th {\n",
              "        vertical-align: top;\n",
              "    }\n",
              "\n",
              "    .dataframe thead th {\n",
              "        text-align: right;\n",
              "    }\n",
              "</style>\n",
              "<table border=\"1\" class=\"dataframe\">\n",
              "  <thead>\n",
              "    <tr style=\"text-align: right;\">\n",
              "      <th></th>\n",
              "      <th>New_ID</th>\n",
              "      <th>TEXT</th>\n",
              "      <th>LABEL</th>\n",
              "    </tr>\n",
              "  </thead>\n",
              "  <tbody>\n",
              "    <tr>\n",
              "      <th>173</th>\n",
              "      <td>174</td>\n",
              "      <td>reduced coenzyme qcytochrome c reductase from bovine heart mitochondria complex iii was incorporated into phospholipid LDV by the cholate dialysis procedure soybean phospholipids or mixtures of purified phosphatidylcholine phosphatidylethanolamine and cardiolipin could be used oxidation of reduced coenzyme q by the reconstituted vesicles with cytochrome c as oxidant showed the following energycoupling phenomena protons were translocated outward with a coupling ratio he of measurements with mitochondria under similar conditions showed an he ratio of proton translocation was not seen in the presence of uncoupling agents and was in addition to the net acidification of the medium from the overall oxidation reaction potassium ions were taken up by the reconstituted vesicles in the presence of valinomycin in a reaction coupled to electron transfer the coupling ratio for k uptake ke was in the vesicles and approximately in mitochondria the rate of oxidation of reduced coenzyme q by the reconstituted LDV was stimulated up to fold by uncouplers or by valinomycin plus nigericin and k ions addition of valinomycin CT in a k medium caused a transient stimulation of electron transfer the results indicate that SE coupling can be observed with isolated reduced coenzyme qcytochrome c reductase if the enzyme complex is properly incorporated into a phospholipid vesicle</td>\n",
              "      <td>vesicles|vesicles|alone|energy</td>\n",
              "    </tr>\n",
              "  </tbody>\n",
              "</table>\n",
              "</div>\n",
              "      <button class=\"colab-df-convert\" onclick=\"convertToInteractive('df-b2c50818-d0e2-406c-95f7-487b7a9d373a')\"\n",
              "              title=\"Convert this dataframe to an interactive table.\"\n",
              "              style=\"display:none;\">\n",
              "        \n",
              "  <svg xmlns=\"http://www.w3.org/2000/svg\" height=\"24px\"viewBox=\"0 0 24 24\"\n",
              "       width=\"24px\">\n",
              "    <path d=\"M0 0h24v24H0V0z\" fill=\"none\"/>\n",
              "    <path d=\"M18.56 5.44l.94 2.06.94-2.06 2.06-.94-2.06-.94-.94-2.06-.94 2.06-2.06.94zm-11 1L8.5 8.5l.94-2.06 2.06-.94-2.06-.94L8.5 2.5l-.94 2.06-2.06.94zm10 10l.94 2.06.94-2.06 2.06-.94-2.06-.94-.94-2.06-.94 2.06-2.06.94z\"/><path d=\"M17.41 7.96l-1.37-1.37c-.4-.4-.92-.59-1.43-.59-.52 0-1.04.2-1.43.59L10.3 9.45l-7.72 7.72c-.78.78-.78 2.05 0 2.83L4 21.41c.39.39.9.59 1.41.59.51 0 1.02-.2 1.41-.59l7.78-7.78 2.81-2.81c.8-.78.8-2.07 0-2.86zM5.41 20L4 18.59l7.72-7.72 1.47 1.35L5.41 20z\"/>\n",
              "  </svg>\n",
              "      </button>\n",
              "      \n",
              "  <style>\n",
              "    .colab-df-container {\n",
              "      display:flex;\n",
              "      flex-wrap:wrap;\n",
              "      gap: 12px;\n",
              "    }\n",
              "\n",
              "    .colab-df-convert {\n",
              "      background-color: #E8F0FE;\n",
              "      border: none;\n",
              "      border-radius: 50%;\n",
              "      cursor: pointer;\n",
              "      display: none;\n",
              "      fill: #1967D2;\n",
              "      height: 32px;\n",
              "      padding: 0 0 0 0;\n",
              "      width: 32px;\n",
              "    }\n",
              "\n",
              "    .colab-df-convert:hover {\n",
              "      background-color: #E2EBFA;\n",
              "      box-shadow: 0px 1px 2px rgba(60, 64, 67, 0.3), 0px 1px 3px 1px rgba(60, 64, 67, 0.15);\n",
              "      fill: #174EA6;\n",
              "    }\n",
              "\n",
              "    [theme=dark] .colab-df-convert {\n",
              "      background-color: #3B4455;\n",
              "      fill: #D2E3FC;\n",
              "    }\n",
              "\n",
              "    [theme=dark] .colab-df-convert:hover {\n",
              "      background-color: #434B5C;\n",
              "      box-shadow: 0px 1px 3px 1px rgba(0, 0, 0, 0.15);\n",
              "      filter: drop-shadow(0px 1px 2px rgba(0, 0, 0, 0.3));\n",
              "      fill: #FFFFFF;\n",
              "    }\n",
              "  </style>\n",
              "\n",
              "      <script>\n",
              "        const buttonEl =\n",
              "          document.querySelector('#df-b2c50818-d0e2-406c-95f7-487b7a9d373a button.colab-df-convert');\n",
              "        buttonEl.style.display =\n",
              "          google.colab.kernel.accessAllowed ? 'block' : 'none';\n",
              "\n",
              "        async function convertToInteractive(key) {\n",
              "          const element = document.querySelector('#df-b2c50818-d0e2-406c-95f7-487b7a9d373a');\n",
              "          const dataTable =\n",
              "            await google.colab.kernel.invokeFunction('convertToInteractive',\n",
              "                                                     [key], {});\n",
              "          if (!dataTable) return;\n",
              "\n",
              "          const docLinkHtml = 'Like what you see? Visit the ' +\n",
              "            '<a target=\"_blank\" href=https://colab.research.google.com/notebooks/data_table.ipynb>data table notebook</a>'\n",
              "            + ' to learn more about interactive tables.';\n",
              "          element.innerHTML = '';\n",
              "          dataTable['output_type'] = 'display_data';\n",
              "          await google.colab.output.renderOutput(dataTable, element);\n",
              "          const docLink = document.createElement('div');\n",
              "          docLink.innerHTML = docLinkHtml;\n",
              "          element.appendChild(docLink);\n",
              "        }\n",
              "      </script>\n",
              "    </div>\n",
              "  </div>\n",
              "  "
            ]
          },
          "metadata": {},
          "execution_count": 27
        }
      ],
      "source": [
        "pd.options.display.max_colwidth = 2000 #to display the full articles\n",
        "similar_articles1=df[df['New_ID'] == 174]\n",
        "similar_articles1"
      ]
    },
    {
      "cell_type": "code",
      "execution_count": null,
      "metadata": {
        "colab": {
          "base_uri": "https://localhost:8080/",
          "height": 281
        },
        "id": "wUYsc-J2Xxyx",
        "outputId": "96b529ce-a6af-4148-e3bb-a067925fd359"
      },
      "outputs": [
        {
          "output_type": "execute_result",
          "data": {
            "text/plain": [
              "     New_ID  \\\n",
              "175     176   \n",
              "\n",
              "                                                                                                                                                                                                                                                                                                                                                                                                                                                                                                                                                                                                                                                                                                                                                                                                                                                                                                                                                                                                                                                                                                                    TEXT  \\\n",
              "175  nadhcoenzyme q reductase from bovine heart mitochondria complex i was incorporated into phospholipid LDV by the cholate dialysis procedure mixtures of purified phosphatidylcholine and phosphatidylethanolamine were required oxidation of nadh by coenzyme q catalyzed by the reconstituted vesicles was coupled to proton translocation directed inward with an he ratio greater than similar experiments measuring proton translocation in submitochondrial particles gave an he ratio of the proton translocation in both systems was not seen in the presence of uncoupling agents and was in addition to the net proton uptake from the reduction of coenzyme q by nadh electron transfer in the reconstituted LDV also caused the uptake of the permeant anion tetraphenylboron the rate of electron transfer by the reconstituted vesicles was stimulated about fold by uncouplers or by valinomycin plus nigericin and k ions the results indicate that energy coupling can be observed with isolated nadhcoenzyme q reductase if the enzyme complex is properly incorporated into a phospholipid vesicle   \n",
              "\n",
              "                 LABEL  \n",
              "175  vesicles|vesicles  "
            ],
            "text/html": [
              "\n",
              "  <div id=\"df-7adc1f54-56f4-4bfa-93d9-2ffcf4bdcc8e\">\n",
              "    <div class=\"colab-df-container\">\n",
              "      <div>\n",
              "<style scoped>\n",
              "    .dataframe tbody tr th:only-of-type {\n",
              "        vertical-align: middle;\n",
              "    }\n",
              "\n",
              "    .dataframe tbody tr th {\n",
              "        vertical-align: top;\n",
              "    }\n",
              "\n",
              "    .dataframe thead th {\n",
              "        text-align: right;\n",
              "    }\n",
              "</style>\n",
              "<table border=\"1\" class=\"dataframe\">\n",
              "  <thead>\n",
              "    <tr style=\"text-align: right;\">\n",
              "      <th></th>\n",
              "      <th>New_ID</th>\n",
              "      <th>TEXT</th>\n",
              "      <th>LABEL</th>\n",
              "    </tr>\n",
              "  </thead>\n",
              "  <tbody>\n",
              "    <tr>\n",
              "      <th>175</th>\n",
              "      <td>176</td>\n",
              "      <td>nadhcoenzyme q reductase from bovine heart mitochondria complex i was incorporated into phospholipid LDV by the cholate dialysis procedure mixtures of purified phosphatidylcholine and phosphatidylethanolamine were required oxidation of nadh by coenzyme q catalyzed by the reconstituted vesicles was coupled to proton translocation directed inward with an he ratio greater than similar experiments measuring proton translocation in submitochondrial particles gave an he ratio of the proton translocation in both systems was not seen in the presence of uncoupling agents and was in addition to the net proton uptake from the reduction of coenzyme q by nadh electron transfer in the reconstituted LDV also caused the uptake of the permeant anion tetraphenylboron the rate of electron transfer by the reconstituted vesicles was stimulated about fold by uncouplers or by valinomycin plus nigericin and k ions the results indicate that energy coupling can be observed with isolated nadhcoenzyme q reductase if the enzyme complex is properly incorporated into a phospholipid vesicle</td>\n",
              "      <td>vesicles|vesicles</td>\n",
              "    </tr>\n",
              "  </tbody>\n",
              "</table>\n",
              "</div>\n",
              "      <button class=\"colab-df-convert\" onclick=\"convertToInteractive('df-7adc1f54-56f4-4bfa-93d9-2ffcf4bdcc8e')\"\n",
              "              title=\"Convert this dataframe to an interactive table.\"\n",
              "              style=\"display:none;\">\n",
              "        \n",
              "  <svg xmlns=\"http://www.w3.org/2000/svg\" height=\"24px\"viewBox=\"0 0 24 24\"\n",
              "       width=\"24px\">\n",
              "    <path d=\"M0 0h24v24H0V0z\" fill=\"none\"/>\n",
              "    <path d=\"M18.56 5.44l.94 2.06.94-2.06 2.06-.94-2.06-.94-.94-2.06-.94 2.06-2.06.94zm-11 1L8.5 8.5l.94-2.06 2.06-.94-2.06-.94L8.5 2.5l-.94 2.06-2.06.94zm10 10l.94 2.06.94-2.06 2.06-.94-2.06-.94-.94-2.06-.94 2.06-2.06.94z\"/><path d=\"M17.41 7.96l-1.37-1.37c-.4-.4-.92-.59-1.43-.59-.52 0-1.04.2-1.43.59L10.3 9.45l-7.72 7.72c-.78.78-.78 2.05 0 2.83L4 21.41c.39.39.9.59 1.41.59.51 0 1.02-.2 1.41-.59l7.78-7.78 2.81-2.81c.8-.78.8-2.07 0-2.86zM5.41 20L4 18.59l7.72-7.72 1.47 1.35L5.41 20z\"/>\n",
              "  </svg>\n",
              "      </button>\n",
              "      \n",
              "  <style>\n",
              "    .colab-df-container {\n",
              "      display:flex;\n",
              "      flex-wrap:wrap;\n",
              "      gap: 12px;\n",
              "    }\n",
              "\n",
              "    .colab-df-convert {\n",
              "      background-color: #E8F0FE;\n",
              "      border: none;\n",
              "      border-radius: 50%;\n",
              "      cursor: pointer;\n",
              "      display: none;\n",
              "      fill: #1967D2;\n",
              "      height: 32px;\n",
              "      padding: 0 0 0 0;\n",
              "      width: 32px;\n",
              "    }\n",
              "\n",
              "    .colab-df-convert:hover {\n",
              "      background-color: #E2EBFA;\n",
              "      box-shadow: 0px 1px 2px rgba(60, 64, 67, 0.3), 0px 1px 3px 1px rgba(60, 64, 67, 0.15);\n",
              "      fill: #174EA6;\n",
              "    }\n",
              "\n",
              "    [theme=dark] .colab-df-convert {\n",
              "      background-color: #3B4455;\n",
              "      fill: #D2E3FC;\n",
              "    }\n",
              "\n",
              "    [theme=dark] .colab-df-convert:hover {\n",
              "      background-color: #434B5C;\n",
              "      box-shadow: 0px 1px 3px 1px rgba(0, 0, 0, 0.15);\n",
              "      filter: drop-shadow(0px 1px 2px rgba(0, 0, 0, 0.3));\n",
              "      fill: #FFFFFF;\n",
              "    }\n",
              "  </style>\n",
              "\n",
              "      <script>\n",
              "        const buttonEl =\n",
              "          document.querySelector('#df-7adc1f54-56f4-4bfa-93d9-2ffcf4bdcc8e button.colab-df-convert');\n",
              "        buttonEl.style.display =\n",
              "          google.colab.kernel.accessAllowed ? 'block' : 'none';\n",
              "\n",
              "        async function convertToInteractive(key) {\n",
              "          const element = document.querySelector('#df-7adc1f54-56f4-4bfa-93d9-2ffcf4bdcc8e');\n",
              "          const dataTable =\n",
              "            await google.colab.kernel.invokeFunction('convertToInteractive',\n",
              "                                                     [key], {});\n",
              "          if (!dataTable) return;\n",
              "\n",
              "          const docLinkHtml = 'Like what you see? Visit the ' +\n",
              "            '<a target=\"_blank\" href=https://colab.research.google.com/notebooks/data_table.ipynb>data table notebook</a>'\n",
              "            + ' to learn more about interactive tables.';\n",
              "          element.innerHTML = '';\n",
              "          dataTable['output_type'] = 'display_data';\n",
              "          await google.colab.output.renderOutput(dataTable, element);\n",
              "          const docLink = document.createElement('div');\n",
              "          docLink.innerHTML = docLinkHtml;\n",
              "          element.appendChild(docLink);\n",
              "        }\n",
              "      </script>\n",
              "    </div>\n",
              "  </div>\n",
              "  "
            ]
          },
          "metadata": {},
          "execution_count": 28
        }
      ],
      "source": [
        "similar_articles=df[df['New_ID'] == 176]\n",
        "similar_articles"
      ]
    }
  ],
  "metadata": {
    "colab": {
      "provenance": [],
      "mount_file_id": "1EKCWmEn2GItm3IXj69ceP9fueIOcyCLt",
      "authorship_tag": "ABX9TyNWrrGJdt2pXe92D/XIy47K",
      "include_colab_link": true
    },
    "kernelspec": {
      "display_name": "Python 3",
      "name": "python3"
    },
    "language_info": {
      "name": "python"
    }
  },
  "nbformat": 4,
  "nbformat_minor": 0
}